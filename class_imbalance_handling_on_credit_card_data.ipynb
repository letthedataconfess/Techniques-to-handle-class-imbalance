{
  "nbformat": 4,
  "nbformat_minor": 0,
  "metadata": {
    "kernelspec": {
      "display_name": "Python 3",
      "language": "python",
      "name": "python3"
    },
    "language_info": {
      "codemirror_mode": {
        "name": "ipython",
        "version": 3
      },
      "file_extension": ".py",
      "mimetype": "text/x-python",
      "name": "python",
      "nbconvert_exporter": "python",
      "pygments_lexer": "ipython3",
      "version": "3.7.3"
    },
    "colab": {
      "name": "class imbalance handling on credit card data.ipynb",
      "provenance": [],
      "toc_visible": true
    }
  },
  "cells": [
    {
      "cell_type": "code",
      "metadata": {
        "id": "nM81eVL4-0HQ",
        "colab_type": "code",
        "colab": {}
      },
      "source": [
        "import pandas as pd\n",
        "import numpy as np\n",
        "from sklearn.model_selection import train_test_split"
      ],
      "execution_count": 0,
      "outputs": []
    },
    {
      "cell_type": "code",
      "metadata": {
        "id": "oBI4wcCf-0HX",
        "colab_type": "code",
        "colab": {}
      },
      "source": [
        "df = pd.read_csv('credit_card_data.csv')"
      ],
      "execution_count": 0,
      "outputs": []
    },
    {
      "cell_type": "code",
      "metadata": {
        "id": "qUr7nHfw-0Hb",
        "colab_type": "code",
        "outputId": "e094b995-4588-47b1-f595-f29ef3b18327",
        "colab": {
          "base_uri": "https://localhost:8080/",
          "height": 257
        }
      },
      "source": [
        "df.head()"
      ],
      "execution_count": 0,
      "outputs": [
        {
          "output_type": "execute_result",
          "data": {
            "text/html": [
              "<div>\n",
              "<style scoped>\n",
              "    .dataframe tbody tr th:only-of-type {\n",
              "        vertical-align: middle;\n",
              "    }\n",
              "\n",
              "    .dataframe tbody tr th {\n",
              "        vertical-align: top;\n",
              "    }\n",
              "\n",
              "    .dataframe thead th {\n",
              "        text-align: right;\n",
              "    }\n",
              "</style>\n",
              "<table border=\"1\" class=\"dataframe\">\n",
              "  <thead>\n",
              "    <tr style=\"text-align: right;\">\n",
              "      <th></th>\n",
              "      <th>Merchant_id</th>\n",
              "      <th>Average Amount/transaction/day</th>\n",
              "      <th>Transaction_amount</th>\n",
              "      <th>Is declined</th>\n",
              "      <th>Total Number of declines/day</th>\n",
              "      <th>isForeignTransaction</th>\n",
              "      <th>isHighRiskCountry</th>\n",
              "      <th>Daily_chargeback_avg_amt</th>\n",
              "      <th>6_month_avg_chbk_amt</th>\n",
              "      <th>6-month_chbk_freq</th>\n",
              "      <th>isFradulent</th>\n",
              "    </tr>\n",
              "  </thead>\n",
              "  <tbody>\n",
              "    <tr>\n",
              "      <th>0</th>\n",
              "      <td>3160040998</td>\n",
              "      <td>100.0</td>\n",
              "      <td>3000.0</td>\n",
              "      <td>N</td>\n",
              "      <td>5</td>\n",
              "      <td>Y</td>\n",
              "      <td>Y</td>\n",
              "      <td>0</td>\n",
              "      <td>0.0</td>\n",
              "      <td>0</td>\n",
              "      <td>Y</td>\n",
              "    </tr>\n",
              "    <tr>\n",
              "      <th>1</th>\n",
              "      <td>3160040998</td>\n",
              "      <td>100.0</td>\n",
              "      <td>4300.0</td>\n",
              "      <td>N</td>\n",
              "      <td>5</td>\n",
              "      <td>Y</td>\n",
              "      <td>Y</td>\n",
              "      <td>0</td>\n",
              "      <td>0.0</td>\n",
              "      <td>0</td>\n",
              "      <td>Y</td>\n",
              "    </tr>\n",
              "    <tr>\n",
              "      <th>2</th>\n",
              "      <td>3160041896</td>\n",
              "      <td>185.5</td>\n",
              "      <td>4823.0</td>\n",
              "      <td>Y</td>\n",
              "      <td>5</td>\n",
              "      <td>N</td>\n",
              "      <td>N</td>\n",
              "      <td>0</td>\n",
              "      <td>0.0</td>\n",
              "      <td>0</td>\n",
              "      <td>Y</td>\n",
              "    </tr>\n",
              "    <tr>\n",
              "      <th>3</th>\n",
              "      <td>3160141996</td>\n",
              "      <td>185.5</td>\n",
              "      <td>5008.5</td>\n",
              "      <td>Y</td>\n",
              "      <td>8</td>\n",
              "      <td>N</td>\n",
              "      <td>N</td>\n",
              "      <td>0</td>\n",
              "      <td>0.0</td>\n",
              "      <td>0</td>\n",
              "      <td>Y</td>\n",
              "    </tr>\n",
              "    <tr>\n",
              "      <th>4</th>\n",
              "      <td>3160241992</td>\n",
              "      <td>500.0</td>\n",
              "      <td>26000.0</td>\n",
              "      <td>N</td>\n",
              "      <td>0</td>\n",
              "      <td>Y</td>\n",
              "      <td>Y</td>\n",
              "      <td>800</td>\n",
              "      <td>677.2</td>\n",
              "      <td>6</td>\n",
              "      <td>Y</td>\n",
              "    </tr>\n",
              "  </tbody>\n",
              "</table>\n",
              "</div>"
            ],
            "text/plain": [
              "   Merchant_id  Average Amount/transaction/day  ...  6-month_chbk_freq isFradulent\n",
              "0   3160040998                           100.0  ...                  0           Y\n",
              "1   3160040998                           100.0  ...                  0           Y\n",
              "2   3160041896                           185.5  ...                  0           Y\n",
              "3   3160141996                           185.5  ...                  0           Y\n",
              "4   3160241992                           500.0  ...                  6           Y\n",
              "\n",
              "[5 rows x 11 columns]"
            ]
          },
          "metadata": {
            "tags": []
          },
          "execution_count": 3
        }
      ]
    },
    {
      "cell_type": "code",
      "metadata": {
        "id": "-cAh2UVd-0Hf",
        "colab_type": "code",
        "outputId": "7b44339e-a60b-4769-9dec-dae491e7316a",
        "colab": {
          "base_uri": "https://localhost:8080/",
          "height": 225
        }
      },
      "source": [
        "df.isnull().sum()"
      ],
      "execution_count": 0,
      "outputs": [
        {
          "output_type": "execute_result",
          "data": {
            "text/plain": [
              "Merchant_id                       0\n",
              "Average Amount/transaction/day    0\n",
              "Transaction_amount                0\n",
              "Is declined                       0\n",
              "Total Number of declines/day      0\n",
              "isForeignTransaction              0\n",
              "isHighRiskCountry                 0\n",
              "Daily_chargeback_avg_amt          0\n",
              "6_month_avg_chbk_amt              0\n",
              "6-month_chbk_freq                 0\n",
              "isFradulent                       0\n",
              "dtype: int64"
            ]
          },
          "metadata": {
            "tags": []
          },
          "execution_count": 4
        }
      ]
    },
    {
      "cell_type": "code",
      "metadata": {
        "id": "_QW9-sIH-0Hj",
        "colab_type": "code",
        "outputId": "e7d55c48-415b-45a5-8a4d-56c8e90f6aeb",
        "colab": {
          "base_uri": "https://localhost:8080/",
          "height": 329
        }
      },
      "source": [
        "df.info()"
      ],
      "execution_count": 0,
      "outputs": [
        {
          "output_type": "stream",
          "text": [
            "<class 'pandas.core.frame.DataFrame'>\n",
            "RangeIndex: 3075 entries, 0 to 3074\n",
            "Data columns (total 11 columns):\n",
            " #   Column                          Non-Null Count  Dtype  \n",
            "---  ------                          --------------  -----  \n",
            " 0   Merchant_id                     3075 non-null   int64  \n",
            " 1   Average Amount/transaction/day  3075 non-null   float64\n",
            " 2   Transaction_amount              3075 non-null   float64\n",
            " 3   Is declined                     3075 non-null   object \n",
            " 4   Total Number of declines/day    3075 non-null   int64  \n",
            " 5   isForeignTransaction            3075 non-null   object \n",
            " 6   isHighRiskCountry               3075 non-null   object \n",
            " 7   Daily_chargeback_avg_amt        3075 non-null   int64  \n",
            " 8   6_month_avg_chbk_amt            3075 non-null   float64\n",
            " 9   6-month_chbk_freq               3075 non-null   int64  \n",
            " 10  isFradulent                     3075 non-null   object \n",
            "dtypes: float64(3), int64(4), object(4)\n",
            "memory usage: 264.4+ KB\n"
          ],
          "name": "stdout"
        }
      ]
    },
    {
      "cell_type": "code",
      "metadata": {
        "id": "E41GkBqe-0Hn",
        "colab_type": "code",
        "outputId": "cd305ce5-7bbd-4c81-d8a4-22658276e067",
        "colab": {
          "base_uri": "https://localhost:8080/",
          "height": 69
        }
      },
      "source": [
        "df['Is declined'].value_counts()"
      ],
      "execution_count": 0,
      "outputs": [
        {
          "output_type": "execute_result",
          "data": {
            "text/plain": [
              "N    3018\n",
              "Y      57\n",
              "Name: Is declined, dtype: int64"
            ]
          },
          "metadata": {
            "tags": []
          },
          "execution_count": 6
        }
      ]
    },
    {
      "cell_type": "code",
      "metadata": {
        "id": "QFozNBlR-0Hq",
        "colab_type": "code",
        "outputId": "5f67e285-fdb4-48ff-8572-0121c5158583",
        "colab": {
          "base_uri": "https://localhost:8080/",
          "height": 69
        }
      },
      "source": [
        "df['isFradulent'].value_counts()"
      ],
      "execution_count": 0,
      "outputs": [
        {
          "output_type": "execute_result",
          "data": {
            "text/plain": [
              "N    2627\n",
              "Y     448\n",
              "Name: isFradulent, dtype: int64"
            ]
          },
          "metadata": {
            "tags": []
          },
          "execution_count": 7
        }
      ]
    },
    {
      "cell_type": "code",
      "metadata": {
        "id": "vnOujqOa-0Hu",
        "colab_type": "code",
        "outputId": "325c6991-527a-42b5-fba5-b05e3897edf2",
        "colab": {
          "base_uri": "https://localhost:8080/",
          "height": 69
        }
      },
      "source": [
        "df['isForeignTransaction'].value_counts()"
      ],
      "execution_count": 0,
      "outputs": [
        {
          "output_type": "execute_result",
          "data": {
            "text/plain": [
              "N    2369\n",
              "Y     706\n",
              "Name: isForeignTransaction, dtype: int64"
            ]
          },
          "metadata": {
            "tags": []
          },
          "execution_count": 8
        }
      ]
    },
    {
      "cell_type": "code",
      "metadata": {
        "id": "s_ZFkHuG-0Hx",
        "colab_type": "code",
        "colab": {}
      },
      "source": [
        "from sklearn import preprocessing\n",
        "le = preprocessing.LabelEncoder()\n",
        "df['isForeignTransaction'] = le.fit_transform(df['isForeignTransaction'])\n",
        "df['Is declined'] = le.fit_transform(df['Is declined'])\n",
        "df['isHighRiskCountry'] = le.fit_transform(df['isHighRiskCountry'])\n",
        "df['isFradulent'] = le.fit_transform(df['isFradulent'])"
      ],
      "execution_count": 0,
      "outputs": []
    },
    {
      "cell_type": "code",
      "metadata": {
        "id": "PfTzKZk8-0H0",
        "colab_type": "code",
        "outputId": "48c69d95-75dd-4140-e72b-7bb10c772646",
        "colab": {
          "base_uri": "https://localhost:8080/",
          "height": 69
        }
      },
      "source": [
        "df['isForeignTransaction'].value_counts()"
      ],
      "execution_count": 0,
      "outputs": [
        {
          "output_type": "execute_result",
          "data": {
            "text/plain": [
              "0    2369\n",
              "1     706\n",
              "Name: isForeignTransaction, dtype: int64"
            ]
          },
          "metadata": {
            "tags": []
          },
          "execution_count": 10
        }
      ]
    },
    {
      "cell_type": "code",
      "metadata": {
        "id": "f6a7kNpF-0H3",
        "colab_type": "code",
        "outputId": "68f85238-0b87-49e0-fdd6-712620330103",
        "colab": {
          "base_uri": "https://localhost:8080/",
          "height": 69
        }
      },
      "source": [
        "df['isFradulent'].value_counts()"
      ],
      "execution_count": 0,
      "outputs": [
        {
          "output_type": "execute_result",
          "data": {
            "text/plain": [
              "0    2627\n",
              "1     448\n",
              "Name: isFradulent, dtype: int64"
            ]
          },
          "metadata": {
            "tags": []
          },
          "execution_count": 11
        }
      ]
    },
    {
      "cell_type": "code",
      "metadata": {
        "id": "ngycvWdh-0H6",
        "colab_type": "code",
        "outputId": "7365967f-268b-4bce-d502-a5bb8d626ae0",
        "colab": {
          "base_uri": "https://localhost:8080/",
          "height": 257
        }
      },
      "source": [
        "df.head()"
      ],
      "execution_count": 0,
      "outputs": [
        {
          "output_type": "execute_result",
          "data": {
            "text/html": [
              "<div>\n",
              "<style scoped>\n",
              "    .dataframe tbody tr th:only-of-type {\n",
              "        vertical-align: middle;\n",
              "    }\n",
              "\n",
              "    .dataframe tbody tr th {\n",
              "        vertical-align: top;\n",
              "    }\n",
              "\n",
              "    .dataframe thead th {\n",
              "        text-align: right;\n",
              "    }\n",
              "</style>\n",
              "<table border=\"1\" class=\"dataframe\">\n",
              "  <thead>\n",
              "    <tr style=\"text-align: right;\">\n",
              "      <th></th>\n",
              "      <th>Merchant_id</th>\n",
              "      <th>Average Amount/transaction/day</th>\n",
              "      <th>Transaction_amount</th>\n",
              "      <th>Is declined</th>\n",
              "      <th>Total Number of declines/day</th>\n",
              "      <th>isForeignTransaction</th>\n",
              "      <th>isHighRiskCountry</th>\n",
              "      <th>Daily_chargeback_avg_amt</th>\n",
              "      <th>6_month_avg_chbk_amt</th>\n",
              "      <th>6-month_chbk_freq</th>\n",
              "      <th>isFradulent</th>\n",
              "    </tr>\n",
              "  </thead>\n",
              "  <tbody>\n",
              "    <tr>\n",
              "      <th>0</th>\n",
              "      <td>3160040998</td>\n",
              "      <td>100.0</td>\n",
              "      <td>3000.0</td>\n",
              "      <td>0</td>\n",
              "      <td>5</td>\n",
              "      <td>1</td>\n",
              "      <td>1</td>\n",
              "      <td>0</td>\n",
              "      <td>0.0</td>\n",
              "      <td>0</td>\n",
              "      <td>1</td>\n",
              "    </tr>\n",
              "    <tr>\n",
              "      <th>1</th>\n",
              "      <td>3160040998</td>\n",
              "      <td>100.0</td>\n",
              "      <td>4300.0</td>\n",
              "      <td>0</td>\n",
              "      <td>5</td>\n",
              "      <td>1</td>\n",
              "      <td>1</td>\n",
              "      <td>0</td>\n",
              "      <td>0.0</td>\n",
              "      <td>0</td>\n",
              "      <td>1</td>\n",
              "    </tr>\n",
              "    <tr>\n",
              "      <th>2</th>\n",
              "      <td>3160041896</td>\n",
              "      <td>185.5</td>\n",
              "      <td>4823.0</td>\n",
              "      <td>1</td>\n",
              "      <td>5</td>\n",
              "      <td>0</td>\n",
              "      <td>0</td>\n",
              "      <td>0</td>\n",
              "      <td>0.0</td>\n",
              "      <td>0</td>\n",
              "      <td>1</td>\n",
              "    </tr>\n",
              "    <tr>\n",
              "      <th>3</th>\n",
              "      <td>3160141996</td>\n",
              "      <td>185.5</td>\n",
              "      <td>5008.5</td>\n",
              "      <td>1</td>\n",
              "      <td>8</td>\n",
              "      <td>0</td>\n",
              "      <td>0</td>\n",
              "      <td>0</td>\n",
              "      <td>0.0</td>\n",
              "      <td>0</td>\n",
              "      <td>1</td>\n",
              "    </tr>\n",
              "    <tr>\n",
              "      <th>4</th>\n",
              "      <td>3160241992</td>\n",
              "      <td>500.0</td>\n",
              "      <td>26000.0</td>\n",
              "      <td>0</td>\n",
              "      <td>0</td>\n",
              "      <td>1</td>\n",
              "      <td>1</td>\n",
              "      <td>800</td>\n",
              "      <td>677.2</td>\n",
              "      <td>6</td>\n",
              "      <td>1</td>\n",
              "    </tr>\n",
              "  </tbody>\n",
              "</table>\n",
              "</div>"
            ],
            "text/plain": [
              "   Merchant_id  Average Amount/transaction/day  ...  6-month_chbk_freq  isFradulent\n",
              "0   3160040998                           100.0  ...                  0            1\n",
              "1   3160040998                           100.0  ...                  0            1\n",
              "2   3160041896                           185.5  ...                  0            1\n",
              "3   3160141996                           185.5  ...                  0            1\n",
              "4   3160241992                           500.0  ...                  6            1\n",
              "\n",
              "[5 rows x 11 columns]"
            ]
          },
          "metadata": {
            "tags": []
          },
          "execution_count": 12
        }
      ]
    },
    {
      "cell_type": "code",
      "metadata": {
        "id": "HEpLqy-UC3I_",
        "colab_type": "code",
        "outputId": "abe1aa20-8e7a-4c64-bd1f-e42bd16baaec",
        "colab": {
          "base_uri": "https://localhost:8080/",
          "height": 104
        }
      },
      "source": [
        "df.columns"
      ],
      "execution_count": 0,
      "outputs": [
        {
          "output_type": "execute_result",
          "data": {
            "text/plain": [
              "Index(['Merchant_id', 'Average Amount/transaction/day', 'Transaction_amount',\n",
              "       'Is declined', 'Total Number of declines/day', 'isForeignTransaction',\n",
              "       'isHighRiskCountry', 'Daily_chargeback_avg_amt', '6_month_avg_chbk_amt',\n",
              "       '6-month_chbk_freq', 'isFradulent'],\n",
              "      dtype='object')"
            ]
          },
          "metadata": {
            "tags": []
          },
          "execution_count": 13
        }
      ]
    },
    {
      "cell_type": "code",
      "metadata": {
        "id": "9p-N56PB-0H-",
        "colab_type": "code",
        "outputId": "9da238b4-515a-4d43-e5a1-b3f313942877",
        "colab": {
          "base_uri": "https://localhost:8080/",
          "height": 507
        }
      },
      "source": [
        "df.hist()"
      ],
      "execution_count": 0,
      "outputs": [
        {
          "output_type": "execute_result",
          "data": {
            "text/plain": [
              "array([[<matplotlib.axes._subplots.AxesSubplot object at 0x7fd1d4738fd0>,\n",
              "        <matplotlib.axes._subplots.AxesSubplot object at 0x7fd1d47192b0>,\n",
              "        <matplotlib.axes._subplots.AxesSubplot object at 0x7fd1d46cf518>],\n",
              "       [<matplotlib.axes._subplots.AxesSubplot object at 0x7fd1d4683780>,\n",
              "        <matplotlib.axes._subplots.AxesSubplot object at 0x7fd1d46359e8>,\n",
              "        <matplotlib.axes._subplots.AxesSubplot object at 0x7fd1d466bc50>],\n",
              "       [<matplotlib.axes._subplots.AxesSubplot object at 0x7fd1d461feb8>,\n",
              "        <matplotlib.axes._subplots.AxesSubplot object at 0x7fd1d45df128>,\n",
              "        <matplotlib.axes._subplots.AxesSubplot object at 0x7fd1d45df198>],\n",
              "       [<matplotlib.axes._subplots.AxesSubplot object at 0x7fd1d4544630>,\n",
              "        <matplotlib.axes._subplots.AxesSubplot object at 0x7fd1d44f8898>,\n",
              "        <matplotlib.axes._subplots.AxesSubplot object at 0x7fd1d452ab00>]],\n",
              "      dtype=object)"
            ]
          },
          "metadata": {
            "tags": []
          },
          "execution_count": 14
        },
        {
          "output_type": "display_data",
          "data": {
            "image/png": "[encoded data removed]",
            "text/plain": [
              "<Figure size 432x288 with 12 Axes>"
            ]
          },
          "metadata": {
            "tags": [],
            "needs_background": "light"
          }
        }
      ]
    },
    {
      "cell_type": "code",
      "metadata": {
        "id": "Cf7WJP9MA5gO",
        "colab_type": "code",
        "outputId": "404868f9-fdca-4d2b-bdb6-a078c293fa2b",
        "colab": {
          "base_uri": "https://localhost:8080/",
          "height": 299
        }
      },
      "source": [
        "import seaborn as sns\n",
        "import matplotlib.pyplot as plt\n",
        "\n",
        "x=df['isFradulent'].value_counts().values\n",
        "sns.barplot(['Not fraud','fraud'],x)\n",
        "plt.title('Target variable count')"
      ],
      "execution_count": 0,
      "outputs": [
        {
          "output_type": "execute_result",
          "data": {
            "text/plain": [
              "Text(0.5, 1.0, 'Target variable count')"
            ]
          },
          "metadata": {
            "tags": []
          },
          "execution_count": 45
        },
        {
          "output_type": "display_data",
          "data": {
            "image/png": "[encoded data removed]",
            "text/plain": [
              "<Figure size 432x288 with 1 Axes>"
            ]
          },
          "metadata": {
            "tags": [],
            "needs_background": "light"
          }
        }
      ]
    },
    {
      "cell_type": "code",
      "metadata": {
        "id": "VxBnCIzJ-0IA",
        "colab_type": "code",
        "outputId": "6d06dea1-b7d9-4d37-9c45-3d870c5ed8a4",
        "colab": {
          "base_uri": "https://localhost:8080/",
          "height": 35
        }
      },
      "source": [
        "X = df.drop(['isFradulent'],axis=1)\n",
        "y = df['isFradulent']\n",
        "X_train, X_test, y_train, y_test = train_test_split(X, y, test_size=0.20, random_state=42)\n",
        "X_train.shape, y_train.shape,X_test.shape,y_test.shape"
      ],
      "execution_count": 46,
      "outputs": [
        {
          "output_type": "execute_result",
          "data": {
            "text/plain": [
              "((2460, 10), (2460,), (615, 10), (615,))"
            ]
          },
          "metadata": {
            "tags": []
          },
          "execution_count": 46
        }
      ]
    },
    {
      "cell_type": "code",
      "metadata": {
        "id": "Tn3ukaNsDBgl",
        "colab_type": "code",
        "outputId": "5eed92b3-e9db-4e0b-e069-b6f735b77130",
        "colab": {
          "base_uri": "https://localhost:8080/",
          "height": 104
        }
      },
      "source": [
        "X_train.columns"
      ],
      "execution_count": 47,
      "outputs": [
        {
          "output_type": "execute_result",
          "data": {
            "text/plain": [
              "Index(['Merchant_id', 'Average Amount/transaction/day', 'Transaction_amount',\n",
              "       'Is declined', 'Total Number of declines/day', 'isForeignTransaction',\n",
              "       'isHighRiskCountry', 'Daily_chargeback_avg_amt', '6_month_avg_chbk_amt',\n",
              "       '6-month_chbk_freq'],\n",
              "      dtype='object')"
            ]
          },
          "metadata": {
            "tags": []
          },
          "execution_count": 47
        }
      ]
    },
    {
      "cell_type": "code",
      "metadata": {
        "id": "EasQyeQIDapS",
        "colab_type": "code",
        "outputId": "274bd60c-81ae-42c1-f294-d4891d1840ae",
        "colab": {
          "base_uri": "https://localhost:8080/",
          "height": 104
        }
      },
      "source": [
        "X.columns"
      ],
      "execution_count": 48,
      "outputs": [
        {
          "output_type": "execute_result",
          "data": {
            "text/plain": [
              "Index(['Merchant_id', 'Average Amount/transaction/day', 'Transaction_amount',\n",
              "       'Is declined', 'Total Number of declines/day', 'isForeignTransaction',\n",
              "       'isHighRiskCountry', 'Daily_chargeback_avg_amt', '6_month_avg_chbk_amt',\n",
              "       '6-month_chbk_freq'],\n",
              "      dtype='object')"
            ]
          },
          "metadata": {
            "tags": []
          },
          "execution_count": 48
        }
      ]
    },
    {
      "cell_type": "code",
      "metadata": {
        "id": "2i1l-wJu-0ID",
        "colab_type": "code",
        "colab": {}
      },
      "source": [
        "#df_main = X_train\n",
        "#df_main['isFradulent'] = y_train\n",
        "df_new=pd.concat([X_train,y_train],axis=1)"
      ],
      "execution_count": 0,
      "outputs": []
    },
    {
      "cell_type": "code",
      "metadata": {
        "id": "leoOhjjs-0IG",
        "colab_type": "code",
        "outputId": "5ed8dece-ed5f-4ba7-d4a5-36215cd624c7",
        "colab": {
          "base_uri": "https://localhost:8080/",
          "height": 69
        }
      },
      "source": [
        "df_new.head()\n",
        "df_new.shape\n",
        "df_new['isFradulent'].value_counts()\n"
      ],
      "execution_count": 50,
      "outputs": [
        {
          "output_type": "execute_result",
          "data": {
            "text/plain": [
              "0    2115\n",
              "1     345\n",
              "Name: isFradulent, dtype: int64"
            ]
          },
          "metadata": {
            "tags": []
          },
          "execution_count": 50
        }
      ]
    },
    {
      "cell_type": "code",
      "metadata": {
        "id": "xx6JWWAy-0II",
        "colab_type": "code",
        "outputId": "046a714a-eaf0-44fe-8487-469dc8130f0c",
        "colab": {
          "base_uri": "https://localhost:8080/",
          "height": 69
        }
      },
      "source": [
        "from sklearn.utils import resample\n",
        "# Separate majority and minority classes\n",
        "df_majority = df_new[df_new['isFradulent']==0]\n",
        "df_minority = df_new[df_new['isFradulent']==1]\n",
        "\n",
        "# Upsample minority class\n",
        "df_minority_upsampled = resample(df_minority, replace=True,n_samples=2115,random_state=111) \n",
        " \n",
        "# Combine majority class with upsampled minority class\n",
        "df_upsampled = pd.concat([df_majority, df_minority_upsampled])\n",
        " \n",
        "# Display new class counts\n",
        "df_upsampled['isFradulent'].value_counts()"
      ],
      "execution_count": 51,
      "outputs": [
        {
          "output_type": "execute_result",
          "data": {
            "text/plain": [
              "1    2115\n",
              "0    2115\n",
              "Name: isFradulent, dtype: int64"
            ]
          },
          "metadata": {
            "tags": []
          },
          "execution_count": 51
        }
      ]
    },
    {
      "cell_type": "code",
      "metadata": {
        "id": "LVwwJHJuEvGs",
        "colab_type": "code",
        "outputId": "326cbc3d-6068-49ae-b0a6-686398aa756e",
        "colab": {
          "base_uri": "https://localhost:8080/",
          "height": 299
        }
      },
      "source": [
        "x=df_upsampled['isFradulent'].value_counts().values\n",
        "sns.barplot(['Not fraud','fraud'],x)\n",
        "#sns.scatterplot(df_upsampled['Merchant_id'],df_upsampled['isFradulent'],hue =\"isFradulent\")\n",
        "#sns.pairplot(df_upsampled, hue =\"isFradulent\", palette ='coolwarm') \n",
        "plt.title('Target variable count')"
      ],
      "execution_count": 80,
      "outputs": [
        {
          "output_type": "execute_result",
          "data": {
            "text/plain": [
              "Text(0.5, 1.0, 'Target variable count')"
            ]
          },
          "metadata": {
            "tags": []
          },
          "execution_count": 80
        },
        {
          "output_type": "display_data",
          "data": {
            "image/png": "[encoded data removed]",
            "text/plain": [
              "<Figure size 432x288 with 1 Axes>"
            ]
          },
          "metadata": {
            "tags": [],
            "needs_background": "light"
          }
        }
      ]
    },
    {
      "cell_type": "code",
      "metadata": {
        "id": "chfVP2zi-0IP",
        "colab_type": "code",
        "outputId": "a593c4a2-5021-425b-e03e-858003d8120f",
        "colab": {
          "base_uri": "https://localhost:8080/",
          "height": 35
        }
      },
      "source": [
        "df_upsampled.shape"
      ],
      "execution_count": 53,
      "outputs": [
        {
          "output_type": "execute_result",
          "data": {
            "text/plain": [
              "(4230, 11)"
            ]
          },
          "metadata": {
            "tags": []
          },
          "execution_count": 53
        }
      ]
    },
    {
      "cell_type": "code",
      "metadata": {
        "id": "51WXHjxWdORh",
        "colab_type": "code",
        "colab": {}
      },
      "source": [
        "z = df_upsampled['isFradulent']\n",
        "f = z.to_numpy()"
      ],
      "execution_count": 0,
      "outputs": []
    },
    {
      "cell_type": "markdown",
      "metadata": {
        "id": "yfnEzv_U-0IS",
        "colab_type": "text"
      },
      "source": [
        "### undersampling"
      ]
    },
    {
      "cell_type": "code",
      "metadata": {
        "id": "mVYgNFCc-0IS",
        "colab_type": "code",
        "outputId": "1f1c837b-5996-4a71-afcf-bcf048952dd4",
        "colab": {
          "base_uri": "https://localhost:8080/",
          "height": 69
        }
      },
      "source": [
        "from sklearn.utils import resample\n",
        "# Separate majority and minority classes\n",
        "df_majority = df_new[df_new['isFradulent']==0]\n",
        "df_minority = df_new[df_new['isFradulent']==1]\n",
        "\n",
        "df_majority_downsampled = resample(df_majority, replace=False, n_samples=345,random_state=121) \n",
        " \n",
        "# Combine minority class with downsampled majority class\n",
        "df_downsampled = pd.concat([df_majority_downsampled, df_minority])\n",
        " \n",
        "# Display new class counts\n",
        "df_downsampled['isFradulent'].value_counts()"
      ],
      "execution_count": 55,
      "outputs": [
        {
          "output_type": "execute_result",
          "data": {
            "text/plain": [
              "1    345\n",
              "0    345\n",
              "Name: isFradulent, dtype: int64"
            ]
          },
          "metadata": {
            "tags": []
          },
          "execution_count": 55
        }
      ]
    },
    {
      "cell_type": "code",
      "metadata": {
        "id": "Tno0qXAW-0IY",
        "colab_type": "code",
        "outputId": "f4103406-6cb5-41ed-db09-64a2b268ff75",
        "colab": {
          "base_uri": "https://localhost:8080/",
          "height": 35
        }
      },
      "source": [
        "df_downsampled.shape"
      ],
      "execution_count": 56,
      "outputs": [
        {
          "output_type": "execute_result",
          "data": {
            "text/plain": [
              "(690, 11)"
            ]
          },
          "metadata": {
            "tags": []
          },
          "execution_count": 56
        }
      ]
    },
    {
      "cell_type": "code",
      "metadata": {
        "id": "tNNlKfrfFjZ1",
        "colab_type": "code",
        "outputId": "897035c3-1a4a-482a-c11c-759b9eebc3b2",
        "colab": {
          "base_uri": "https://localhost:8080/",
          "height": 299
        }
      },
      "source": [
        "x=df_downsampled['isFradulent'].value_counts().values\n",
        "sns.barplot(['Not fraud','fraud'],x)\n",
        "plt.title('Target variable count')"
      ],
      "execution_count": 81,
      "outputs": [
        {
          "output_type": "execute_result",
          "data": {
            "text/plain": [
              "Text(0.5, 1.0, 'Target variable count')"
            ]
          },
          "metadata": {
            "tags": []
          },
          "execution_count": 81
        },
        {
          "output_type": "display_data",
          "data": {
            "image/png": "[encoded data removed]",
            "text/plain": [
              "<Figure size 432x288 with 1 Axes>"
            ]
          },
          "metadata": {
            "tags": [],
            "needs_background": "light"
          }
        }
      ]
    },
    {
      "cell_type": "code",
      "metadata": {
        "id": "Yk1N5Wsj-0Ib",
        "colab_type": "code",
        "colab": {}
      },
      "source": [
        "X = df_new.drop(['isFradulent'],axis=1)\n",
        "y = df_new['isFradulent']"
      ],
      "execution_count": 0,
      "outputs": []
    },
    {
      "cell_type": "code",
      "metadata": {
        "id": "GOD4hYtE_0uP",
        "colab_type": "code",
        "outputId": "f54d4db4-4a1e-4822-8911-b594c66546a2",
        "colab": {
          "base_uri": "https://localhost:8080/",
          "height": 35
        }
      },
      "source": [
        "X.shape,y.shape"
      ],
      "execution_count": 59,
      "outputs": [
        {
          "output_type": "execute_result",
          "data": {
            "text/plain": [
              "((2460, 10), (2460,))"
            ]
          },
          "metadata": {
            "tags": []
          },
          "execution_count": 59
        }
      ]
    },
    {
      "cell_type": "markdown",
      "metadata": {
        "id": "itbDgqWqXo7s",
        "colab_type": "text"
      },
      "source": [
        "## SMOTE"
      ]
    },
    {
      "cell_type": "code",
      "metadata": {
        "id": "WJEbM3Oh-0Ii",
        "colab_type": "code",
        "outputId": "ee82ba9d-cb30-4c13-a5f1-7f0f1e741afe",
        "colab": {
          "base_uri": "https://localhost:8080/",
          "height": 141
        }
      },
      "source": [
        "from imblearn.over_sampling import SMOTE \n",
        "sm = SMOTE(sampling_strategy='auto', random_state=None,k_neighbors=3)\n",
        "X_train_res, y_train_res = sm.fit_sample(X, y) "
      ],
      "execution_count": 60,
      "outputs": [
        {
          "output_type": "stream",
          "text": [
            "/usr/local/lib/python3.6/dist-packages/sklearn/externals/six.py:31: FutureWarning: The module is deprecated in version 0.21 and will be removed in version 0.23 since we've dropped support for Python 2.7. Please rely on the official version of six (https://pypi.org/project/six/).\n",
            "  \"(https://pypi.org/project/six/).\", FutureWarning)\n",
            "/usr/local/lib/python3.6/dist-packages/sklearn/utils/deprecation.py:144: FutureWarning: The sklearn.neighbors.base module is  deprecated in version 0.22 and will be removed in version 0.24. The corresponding classes / functions should instead be imported from sklearn.neighbors. Anything that cannot be imported from sklearn.neighbors is now part of the private API.\n",
            "  warnings.warn(message, FutureWarning)\n",
            "/usr/local/lib/python3.6/dist-packages/sklearn/utils/deprecation.py:87: FutureWarning: Function safe_indexing is deprecated; safe_indexing is deprecated in version 0.22 and will be removed in version 0.24.\n",
            "  warnings.warn(msg, category=FutureWarning)\n"
          ],
          "name": "stderr"
        }
      ]
    },
    {
      "cell_type": "code",
      "metadata": {
        "id": "Vv_OI-N9-0Im",
        "colab_type": "code",
        "outputId": "a08d5959-11d6-49f0-e23b-fd5370b16758",
        "colab": {
          "base_uri": "https://localhost:8080/",
          "height": 52
        }
      },
      "source": [
        "print(\"After applying SMOTE, counts '1': {}\".format(sum(y_train_res == 1))) \n",
        "print(\"After applying SMOTE, counts '0': {}\".format(sum(y_train_res == 0))) \n"
      ],
      "execution_count": 67,
      "outputs": [
        {
          "output_type": "stream",
          "text": [
            "After applying SMOTE, counts '1': 2115\n",
            "After applying SMOTE, counts '0': 2115\n"
          ],
          "name": "stdout"
        }
      ]
    },
    {
      "cell_type": "code",
      "metadata": {
        "id": "D2Zov8h-MGqo",
        "colab_type": "code",
        "outputId": "9edb2e49-668a-437c-9f95-8d135aea7629",
        "colab": {
          "base_uri": "https://localhost:8080/",
          "height": 52
        }
      },
      "source": [
        "print(\"After applying SMOTE, counts of label '1': {}\".format(sum(y_tl == 1))) \n",
        "print(\"After applying SMOTE, counts of label '0': {}\".format(sum(y_tl == 0))) "
      ],
      "execution_count": 70,
      "outputs": [
        {
          "output_type": "stream",
          "text": [
            "After applying SMOTE, counts of label '1': 345\n",
            "After applying SMOTE, counts of label '0': 1938\n"
          ],
          "name": "stdout"
        }
      ]
    },
    {
      "cell_type": "markdown",
      "metadata": {
        "id": "L160bcJBamOo",
        "colab_type": "text"
      },
      "source": [
        "## Clustering based method"
      ]
    },
    {
      "cell_type": "code",
      "metadata": {
        "id": "Sk9wfX-N-k9Y",
        "colab_type": "code",
        "outputId": "ecf9c893-c896-47b2-fd71-5100fb69ec35",
        "colab": {
          "base_uri": "https://localhost:8080/",
          "height": 72
        }
      },
      "source": [
        "from imblearn.under_sampling import ClusterCentroids\n",
        "\n",
        "cluster_centroid = ClusterCentroids(ratio={0: 300})\n",
        "X_cluster, y_cluster = cluster_centroid.fit_sample(X, y)\n"
      ],
      "execution_count": 74,
      "outputs": [
        {
          "output_type": "stream",
          "text": [
            "/usr/local/lib/python3.6/dist-packages/sklearn/utils/deprecation.py:87: FutureWarning: Function safe_indexing is deprecated; safe_indexing is deprecated in version 0.22 and will be removed in version 0.24.\n",
            "  warnings.warn(msg, category=FutureWarning)\n"
          ],
          "name": "stderr"
        }
      ]
    },
    {
      "cell_type": "code",
      "metadata": {
        "id": "DTXQOn92UxYw",
        "colab_type": "code",
        "colab": {
          "base_uri": "https://localhost:8080/",
          "height": 52
        },
        "outputId": "d6abe55f-29f9-431e-a10f-d5405a369ffa"
      },
      "source": [
        "print(\"After applying cluster centroid algorithm, counts '1': {}\".format(sum(y_cluster == 1))) \n",
        "print(\"After applying cluster centroid algorithm, counts '0': {}\".format(sum(y_cluster == 0))) "
      ],
      "execution_count": 76,
      "outputs": [
        {
          "output_type": "stream",
          "text": [
            "After applying cluster centroid algorithm, counts '1': 345\n",
            "After applying cluster centroid algorithm, counts '0': 300\n"
          ],
          "name": "stdout"
        }
      ]
    },
    {
      "cell_type": "markdown",
      "metadata": {
        "id": "tCAV366paydc",
        "colab_type": "text"
      },
      "source": [
        "## Tomek Links"
      ]
    },
    {
      "cell_type": "code",
      "metadata": {
        "id": "WsHcwbZZ6MNO",
        "colab_type": "code",
        "outputId": "7e82fdba-47a0-4b68-fbea-d1903f2c22aa",
        "colab": {
          "base_uri": "https://localhost:8080/",
          "height": 72
        }
      },
      "source": [
        "from imblearn.under_sampling import TomekLinks\n",
        " \n",
        "tomeklinks = TomekLinks()\n",
        "X_tomeklinks, y_tomeklinks = tomeklinks.fit_sample(X, y)\n"
      ],
      "execution_count": 78,
      "outputs": [
        {
          "output_type": "stream",
          "text": [
            "/usr/local/lib/python3.6/dist-packages/sklearn/utils/deprecation.py:87: FutureWarning: Function safe_indexing is deprecated; safe_indexing is deprecated in version 0.22 and will be removed in version 0.24.\n",
            "  warnings.warn(msg, category=FutureWarning)\n"
          ],
          "name": "stderr"
        }
      ]
    },
    {
      "cell_type": "code",
      "metadata": {
        "id": "a_zWwPtdMZaK",
        "colab_type": "code",
        "colab": {
          "base_uri": "https://localhost:8080/",
          "height": 52
        },
        "outputId": "1cf15598-0bf0-4e7b-fbfa-8a48018fafa1"
      },
      "source": [
        "print(\"Using tomek links, counts '1': {}\".format(sum(y_tomeklinks == 1))) \n",
        "print(\"Using tomek links, counts '0': {}\".format(sum(y_tomeklinks == 0))) "
      ],
      "execution_count": 79,
      "outputs": [
        {
          "output_type": "stream",
          "text": [
            "Using tomek links, counts '1': 345\n",
            "Using tomek links, counts '0': 1938\n"
          ],
          "name": "stdout"
        }
      ]
    }
  ]
}